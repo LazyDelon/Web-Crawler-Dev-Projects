{
 "cells": [
  {
   "cell_type": "markdown",
   "metadata": {},
   "source": [
    "# 網路書店圖片資料爬蟲"
   ]
  },
  {
   "cell_type": "markdown",
   "metadata": {},
   "source": [
    "## 匯入函式庫"
   ]
  },
  {
   "cell_type": "code",
   "execution_count": 1,
   "metadata": {},
   "outputs": [],
   "source": [
    "import shutil #匯入 檔案管理 專用函式庫 功能:文件處理\n",
    "import requests #匯入 requests 函式庫 功能：向 http 請求\n",
    "from bs4 import BeautifulSoup #從 bs4 函式庫 匯入 BeautifulSoup函式，來解析網頁。"
   ]
  },
  {
   "cell_type": "markdown",
   "metadata": {},
   "source": [
    "## 爬取網頁內容"
   ]
  },
  {
   "cell_type": "code",
   "execution_count": 2,
   "metadata": {},
   "outputs": [],
   "source": [
    "for page in range(1, 3):\n",
    "    URL = \"http://bang.dangdang.com/books/bestsellers/01.00.00.00.00.00-recent7-0-0-1-x\"\n",
    "    URL = URL.replace('x', str(page)) #利用 replace 進行 x 替換\n",
    "    res = requests.get(URL)\n",
    "    soup = BeautifulSoup(res.text)\n",
    "    \n",
    "    for item in soup.select('.pic img'):\n",
    "        \n",
    "        F_Name = \"E:\\\\My_Courses\\\\Photo\\\\dangdang\\\\\" + item['src'].split('/')[5] #F_Name 為爬取後的存放路徑\n",
    "        \n",
    "        res2 = requests.get(item['src'], stream=True) #透過 get()函式的 stream參數 來抓取網路圖片\n",
    "        \n",
    "        File = open(F_Name, 'wb') \n",
    "        #透過 open 函式，來讀取 F_Name路徑中的圖片，並給予文件讀寫模式 w(write) 為 寫入模式 和 b(binary) 為 二進位寫入\n",
    "        \n",
    "        shutil.copyfileobj(res2.raw, File)\n",
    "        #透過 shutil函式庫內的 copyfileobj()函示，將抓取到的網路圖片 複製給 File\n",
    "        \n",
    "        File.close()\n",
    "        #必須將當下的 open()函式 關閉連線，才能讓下一個檔案進行處理。"
   ]
  },
  {
   "cell_type": "markdown",
   "metadata": {},
   "source": [
    "![title](Photo/Figure_3.jpg)"
   ]
  },
  {
   "cell_type": "markdown",
   "metadata": {},
   "source": [
    "## 執行結果"
   ]
  },
  {
   "cell_type": "markdown",
   "metadata": {},
   "source": [
    "![title](Photo/Figure_4.jpg)"
   ]
  },
  {
   "cell_type": "code",
   "execution_count": null,
   "metadata": {},
   "outputs": [],
   "source": []
  }
 ],
 "metadata": {
  "kernelspec": {
   "display_name": "Python 3",
   "language": "python",
   "name": "python3"
  },
  "language_info": {
   "codemirror_mode": {
    "name": "ipython",
    "version": 3
   },
   "file_extension": ".py",
   "mimetype": "text/x-python",
   "name": "python",
   "nbconvert_exporter": "python",
   "pygments_lexer": "ipython3",
   "version": "3.7.4"
  }
 },
 "nbformat": 4,
 "nbformat_minor": 2
}
