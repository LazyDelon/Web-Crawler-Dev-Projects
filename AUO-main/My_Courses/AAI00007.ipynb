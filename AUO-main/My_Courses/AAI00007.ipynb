{
 "cells": [
  {
   "cell_type": "markdown",
   "metadata": {},
   "source": [
    "# Dcard資料爬蟲"
   ]
  },
  {
   "cell_type": "markdown",
   "metadata": {},
   "source": [
    "## 匯入函式庫"
   ]
  },
  {
   "cell_type": "code",
   "execution_count": 1,
   "metadata": {},
   "outputs": [],
   "source": [
    "import json #匯入 json 函式庫 功能：處理 json 型態資料\n",
    "import requests #匯入 requests 函式庫 功能：向 http 請求\n",
    "import matplotlib.pyplot as plt # 匯入 matplotlib 函式庫中的 pyplot函式 功能：生成繪圖"
   ]
  },
  {
   "cell_type": "markdown",
   "metadata": {},
   "source": [
    "## 網頁內容解析"
   ]
  },
  {
   "cell_type": "code",
   "execution_count": 2,
   "metadata": {},
   "outputs": [],
   "source": [
    "URL = \"https://www.dcard.tw/_api/forums/dressup/posts?popular=false\"\n",
    "\n",
    "res = requests.get(URL) #以 requests 函式庫內的 get()函式 來請求 http 的網頁內容。\n",
    "\n",
    "res_json = json.loads(res.text) #將爬取到的 res 透過 loads 來解析 json 格式"
   ]
  },
  {
   "cell_type": "code",
   "execution_count": 3,
   "metadata": {},
   "outputs": [],
   "source": [
    "gender_count = {'F': 0, 'M': 0}\n",
    "\n",
    "#創建一個含有 F 與 M 欄位的 json型態資料 gender_count，並設初始值為 0。\n",
    "#來儲存 F 與 M 的發生次數。"
   ]
  },
  {
   "cell_type": "code",
   "execution_count": 4,
   "metadata": {},
   "outputs": [],
   "source": [
    "for result in res_json:\n",
    "    gender_count[result['gender']] = gender_count[result['gender']] + 1\n",
    "    \n",
    "#透過迴圈每提取一筆資料時 則 +1"
   ]
  },
  {
   "cell_type": "code",
   "execution_count": 5,
   "metadata": {},
   "outputs": [],
   "source": [
    "sex = ['女性', '男性']\n",
    "\n",
    "#創建一個 list型態資料"
   ]
  },
  {
   "cell_type": "code",
   "execution_count": 6,
   "metadata": {},
   "outputs": [],
   "source": [
    "total = [gender_count['F'], gender_count['M']]\n",
    "\n",
    "#儲存最終結果"
   ]
  },
  {
   "cell_type": "markdown",
   "metadata": {},
   "source": [
    "## 生成繪圖"
   ]
  },
  {
   "cell_type": "code",
   "execution_count": 7,
   "metadata": {},
   "outputs": [],
   "source": [
    "plt.rcParams['font.sans-serif'] = ['Microsoft YaHei']\n",
    "\n",
    "#因為 pyplot 預設情況下，中文為亂碼，所以透過 rcParams 來解決編碼問題。"
   ]
  },
  {
   "cell_type": "code",
   "execution_count": 8,
   "metadata": {},
   "outputs": [
    {
     "data": {
      "text/plain": [
       "<BarContainer object of 2 artists>"
      ]
     },
     "execution_count": 8,
     "metadata": {},
     "output_type": "execute_result"
    },
    {
     "data": {
      "image/png": "[encoded data removed]",
      "text/plain": [
       "<Figure size 432x288 with 1 Axes>"
      ]
     },
     "metadata": {
      "needs_background": "light"
     },
     "output_type": "display_data"
    }
   ],
   "source": [
    "plt.bar(sex, total)\n",
    "\n",
    "#透過 pyplot函式 中的 bar函式 來繪製長條圖"
   ]
  },
  {
   "cell_type": "code",
   "execution_count": null,
   "metadata": {},
   "outputs": [],
   "source": []
  }
 ],
 "metadata": {
  "kernelspec": {
   "display_name": "Python 3",
   "language": "python",
   "name": "python3"
  },
  "language_info": {
   "codemirror_mode": {
    "name": "ipython",
    "version": 3
   },
   "file_extension": ".py",
   "mimetype": "text/x-python",
   "name": "python",
   "nbconvert_exporter": "python",
   "pygments_lexer": "ipython3",
   "version": "3.7.4"
  }
 },
 "nbformat": 4,
 "nbformat_minor": 2
}
